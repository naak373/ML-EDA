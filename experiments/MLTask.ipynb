{
 "cells": [
  {
   "cell_type": "code",
   "execution_count": 1,
   "metadata": {},
   "outputs": [],
   "source": [
    "import numpy as np\n",
    "import pandas as pd\n",
    "import matplotlib.pyplot as plt\n",
    "import seaborn as sns"
   ]
  },
  {
   "cell_type": "code",
   "execution_count": 2,
   "metadata": {},
   "outputs": [],
   "source": [
    "data = pd.read_csv(\"../data/GenZ_DatingApp_Data.csv\")"
   ]
  },
  {
   "cell_type": "code",
   "execution_count": 3,
   "metadata": {},
   "outputs": [],
   "source": [
    "#To make a copy of The Original Copy of the Data\n",
    "df = data.copy()"
   ]
  },
  {
   "cell_type": "code",
   "execution_count": 4,
   "metadata": {},
   "outputs": [
    {
     "data": {
      "text/html": [
       "<div>\n",
       "<style scoped>\n",
       "    .dataframe tbody tr th:only-of-type {\n",
       "        vertical-align: middle;\n",
       "    }\n",
       "\n",
       "    .dataframe tbody tr th {\n",
       "        vertical-align: top;\n",
       "    }\n",
       "\n",
       "    .dataframe thead th {\n",
       "        text-align: right;\n",
       "    }\n",
       "</style>\n",
       "<table border=\"1\" class=\"dataframe\">\n",
       "  <thead>\n",
       "    <tr style=\"text-align: right;\">\n",
       "      <th></th>\n",
       "      <th>User_ID</th>\n",
       "      <th>Age</th>\n",
       "      <th>Gender</th>\n",
       "      <th>Location</th>\n",
       "      <th>Education</th>\n",
       "      <th>Occupation</th>\n",
       "      <th>Primary_App</th>\n",
       "      <th>Secondary_Apps</th>\n",
       "      <th>Usage_Frequency</th>\n",
       "      <th>Daily_Usage_Time</th>\n",
       "      <th>Reason_for_Using</th>\n",
       "      <th>Satisfaction</th>\n",
       "      <th>Challenges</th>\n",
       "      <th>Desired_Features</th>\n",
       "      <th>Preferred_Communication</th>\n",
       "      <th>Partner_Priorities</th>\n",
       "    </tr>\n",
       "  </thead>\n",
       "  <tbody>\n",
       "    <tr>\n",
       "      <th>495</th>\n",
       "      <td>496</td>\n",
       "      <td>23</td>\n",
       "      <td>Female</td>\n",
       "      <td>Mumbai</td>\n",
       "      <td>Undergraduate</td>\n",
       "      <td>Intern</td>\n",
       "      <td>Tinder</td>\n",
       "      <td>Hinge</td>\n",
       "      <td>Weekly</td>\n",
       "      <td>1.5 hours</td>\n",
       "      <td>Casual Dating</td>\n",
       "      <td>2</td>\n",
       "      <td>NaN</td>\n",
       "      <td>Audio Calls</td>\n",
       "      <td>Voice Notes</td>\n",
       "      <td>Personality &gt; Interests &gt; Values</td>\n",
       "    </tr>\n",
       "    <tr>\n",
       "      <th>496</th>\n",
       "      <td>497</td>\n",
       "      <td>23</td>\n",
       "      <td>Male</td>\n",
       "      <td>Mumbai</td>\n",
       "      <td>Postgraduate</td>\n",
       "      <td>Intern</td>\n",
       "      <td>OkCupid</td>\n",
       "      <td>Tinder</td>\n",
       "      <td>Daily</td>\n",
       "      <td>2 hours</td>\n",
       "      <td>Casual Fun</td>\n",
       "      <td>1</td>\n",
       "      <td>Time-Wasting</td>\n",
       "      <td>Video Calls</td>\n",
       "      <td>Video Calls</td>\n",
       "      <td>Values &gt; Personality &gt; Appearance</td>\n",
       "    </tr>\n",
       "    <tr>\n",
       "      <th>497</th>\n",
       "      <td>498</td>\n",
       "      <td>22</td>\n",
       "      <td>Male</td>\n",
       "      <td>Hyderabad</td>\n",
       "      <td>Graduate</td>\n",
       "      <td>Freelancer</td>\n",
       "      <td>NaN</td>\n",
       "      <td>Hinge</td>\n",
       "      <td>Monthly</td>\n",
       "      <td>2 hours</td>\n",
       "      <td>Casual Fun</td>\n",
       "      <td>2</td>\n",
       "      <td>Lack of Genuine Matches</td>\n",
       "      <td>Video Calls</td>\n",
       "      <td>Voice Notes</td>\n",
       "      <td>Appearance &gt; Interests &gt; Personality</td>\n",
       "    </tr>\n",
       "    <tr>\n",
       "      <th>498</th>\n",
       "      <td>499</td>\n",
       "      <td>21</td>\n",
       "      <td>Female</td>\n",
       "      <td>Kolkata</td>\n",
       "      <td>Graduate</td>\n",
       "      <td>Student</td>\n",
       "      <td>Tinder</td>\n",
       "      <td>Hinge</td>\n",
       "      <td>Daily</td>\n",
       "      <td>1.5 hours</td>\n",
       "      <td>Casual Dating</td>\n",
       "      <td>3</td>\n",
       "      <td>Lack of Genuine Matches</td>\n",
       "      <td>Detailed Profiles</td>\n",
       "      <td>Text</td>\n",
       "      <td>Appearance &gt; Interests &gt; Personality</td>\n",
       "    </tr>\n",
       "    <tr>\n",
       "      <th>499</th>\n",
       "      <td>500</td>\n",
       "      <td>22</td>\n",
       "      <td>Male</td>\n",
       "      <td>Mumbai</td>\n",
       "      <td>Graduate</td>\n",
       "      <td>Part-time Job</td>\n",
       "      <td>NaN</td>\n",
       "      <td>Hinge</td>\n",
       "      <td>Weekly</td>\n",
       "      <td>1.5 hours</td>\n",
       "      <td>Casual Fun</td>\n",
       "      <td>2</td>\n",
       "      <td>Time-Wasting</td>\n",
       "      <td>AI Recommendations</td>\n",
       "      <td>Video Calls</td>\n",
       "      <td>Appearance &gt; Interests &gt; Personality</td>\n",
       "    </tr>\n",
       "  </tbody>\n",
       "</table>\n",
       "</div>"
      ],
      "text/plain": [
       "     User_ID  Age  Gender   Location      Education     Occupation  \\\n",
       "495      496   23  Female     Mumbai  Undergraduate         Intern   \n",
       "496      497   23    Male     Mumbai   Postgraduate         Intern   \n",
       "497      498   22    Male  Hyderabad       Graduate     Freelancer   \n",
       "498      499   21  Female    Kolkata       Graduate        Student   \n",
       "499      500   22    Male     Mumbai       Graduate  Part-time Job   \n",
       "\n",
       "    Primary_App Secondary_Apps Usage_Frequency Daily_Usage_Time  \\\n",
       "495      Tinder          Hinge          Weekly        1.5 hours   \n",
       "496     OkCupid         Tinder           Daily          2 hours   \n",
       "497         NaN          Hinge         Monthly          2 hours   \n",
       "498      Tinder          Hinge           Daily        1.5 hours   \n",
       "499         NaN          Hinge          Weekly        1.5 hours   \n",
       "\n",
       "    Reason_for_Using  Satisfaction               Challenges  \\\n",
       "495    Casual Dating             2                      NaN   \n",
       "496       Casual Fun             1             Time-Wasting   \n",
       "497       Casual Fun             2  Lack of Genuine Matches   \n",
       "498    Casual Dating             3  Lack of Genuine Matches   \n",
       "499       Casual Fun             2             Time-Wasting   \n",
       "\n",
       "       Desired_Features Preferred_Communication  \\\n",
       "495         Audio Calls             Voice Notes   \n",
       "496         Video Calls             Video Calls   \n",
       "497         Video Calls             Voice Notes   \n",
       "498   Detailed Profiles                    Text   \n",
       "499  AI Recommendations             Video Calls   \n",
       "\n",
       "                       Partner_Priorities  \n",
       "495      Personality > Interests > Values  \n",
       "496     Values > Personality > Appearance  \n",
       "497  Appearance > Interests > Personality  \n",
       "498  Appearance > Interests > Personality  \n",
       "499  Appearance > Interests > Personality  "
      ]
     },
     "execution_count": 4,
     "metadata": {},
     "output_type": "execute_result"
    }
   ],
   "source": [
    "#To Generate the First Five Rows Of the Dataset\n",
    "data.tail(5)"
   ]
  },
  {
   "cell_type": "code",
   "execution_count": 5,
   "metadata": {},
   "outputs": [
    {
     "name": "stdout",
     "output_type": "stream",
     "text": [
      "User_ID                      0\n",
      "Age                          0\n",
      "Gender                       0\n",
      "Location                     0\n",
      "Education                    0\n",
      "Occupation                   0\n",
      "Primary_App                107\n",
      "Secondary_Apps             114\n",
      "Usage_Frequency              0\n",
      "Daily_Usage_Time             0\n",
      "Reason_for_Using             0\n",
      "Satisfaction                 0\n",
      "Challenges                 117\n",
      "Desired_Features             0\n",
      "Preferred_Communication      0\n",
      "Partner_Priorities           0\n",
      "dtype: int64\n"
     ]
    }
   ],
   "source": [
    "# Check for missing values\n",
    "print(df.isnull().sum())"
   ]
  },
  {
   "cell_type": "code",
   "execution_count": 6,
   "metadata": {},
   "outputs": [
    {
     "data": {
      "text/plain": [
       "User_ID                     0.0\n",
       "Age                         0.0\n",
       "Gender                      0.0\n",
       "Location                    0.0\n",
       "Education                   0.0\n",
       "Occupation                  0.0\n",
       "Primary_App                21.4\n",
       "Secondary_Apps             22.8\n",
       "Usage_Frequency             0.0\n",
       "Daily_Usage_Time            0.0\n",
       "Reason_for_Using            0.0\n",
       "Satisfaction                0.0\n",
       "Challenges                 23.4\n",
       "Desired_Features            0.0\n",
       "Preferred_Communication     0.0\n",
       "Partner_Priorities          0.0\n",
       "dtype: float64"
      ]
     },
     "execution_count": 6,
     "metadata": {},
     "output_type": "execute_result"
    }
   ],
   "source": [
    "#To find the percentage of mssing values (null values) in the dataset\n",
    "((data.isnull().sum())/data.shape[0] ) * 100\n"
   ]
  },
  {
   "cell_type": "code",
   "execution_count": 7,
   "metadata": {},
   "outputs": [],
   "source": [
    "#Filling the Null Values with the mode since the percentage of Missing Values is not significant for the columns to be dropped\n",
    "df['Primary_App'] = df['Primary_App'].fillna(df['Primary_App'].mode()[0])\n",
    "df['Secondary_Apps'] = df['Secondary_Apps'].fillna(df['Secondary_Apps'].mode()[0])"
   ]
  },
  {
   "cell_type": "code",
   "execution_count": 8,
   "metadata": {},
   "outputs": [],
   "source": [
    "#Filling Challenges Column With A Placholder \n",
    "df['Challenges'] = df['Challenges'].fillna('Unknown')"
   ]
  },
  {
   "cell_type": "code",
   "execution_count": 9,
   "metadata": {},
   "outputs": [],
   "source": [
    "# To Standardize categorical values\n",
    "df['Gender'] = df['Gender'].str.lower()"
   ]
  },
  {
   "cell_type": "code",
   "execution_count": 10,
   "metadata": {},
   "outputs": [],
   "source": [
    "#To convert all object data types into categorical data types\n",
    "for col in df.select_dtypes(include='object').columns:\n",
    "    df[col] = df[col].astype('category')"
   ]
  },
  {
   "cell_type": "code",
   "execution_count": 11,
   "metadata": {},
   "outputs": [
    {
     "name": "stdout",
     "output_type": "stream",
     "text": [
      "<class 'pandas.core.frame.DataFrame'>\n",
      "RangeIndex: 500 entries, 0 to 499\n",
      "Data columns (total 16 columns):\n",
      " #   Column                   Non-Null Count  Dtype   \n",
      "---  ------                   --------------  -----   \n",
      " 0   User_ID                  500 non-null    int64   \n",
      " 1   Age                      500 non-null    int64   \n",
      " 2   Gender                   500 non-null    category\n",
      " 3   Location                 500 non-null    category\n",
      " 4   Education                500 non-null    category\n",
      " 5   Occupation               500 non-null    category\n",
      " 6   Primary_App              500 non-null    category\n",
      " 7   Secondary_Apps           500 non-null    category\n",
      " 8   Usage_Frequency          500 non-null    category\n",
      " 9   Daily_Usage_Time         500 non-null    category\n",
      " 10  Reason_for_Using         500 non-null    category\n",
      " 11  Satisfaction             500 non-null    int64   \n",
      " 12  Challenges               500 non-null    category\n",
      " 13  Desired_Features         500 non-null    category\n",
      " 14  Preferred_Communication  500 non-null    category\n",
      " 15  Partner_Priorities       500 non-null    category\n",
      "dtypes: category(13), int64(3)\n",
      "memory usage: 20.6 KB\n"
     ]
    }
   ],
   "source": [
    "df.info()"
   ]
  },
  {
   "cell_type": "code",
   "execution_count": 12,
   "metadata": {},
   "outputs": [],
   "source": [
    "df['Satisfaction'] = df['Satisfaction'].astype('category')"
   ]
  },
  {
   "cell_type": "code",
   "execution_count": 39,
   "metadata": {},
   "outputs": [],
   "source": [
    "df.drop(\"Satsisfaction\", axis=1, inplace=True)"
   ]
  },
  {
   "cell_type": "code",
   "execution_count": 40,
   "metadata": {},
   "outputs": [
    {
     "name": "stdout",
     "output_type": "stream",
     "text": [
      "<class 'pandas.core.frame.DataFrame'>\n",
      "RangeIndex: 500 entries, 0 to 499\n",
      "Data columns (total 16 columns):\n",
      " #   Column                   Non-Null Count  Dtype   \n",
      "---  ------                   --------------  -----   \n",
      " 0   User_ID                  500 non-null    int64   \n",
      " 1   Age                      500 non-null    int64   \n",
      " 2   Gender                   500 non-null    object  \n",
      " 3   Location                 500 non-null    object  \n",
      " 4   Education                500 non-null    object  \n",
      " 5   Occupation               500 non-null    object  \n",
      " 6   Primary_App              500 non-null    object  \n",
      " 7   Secondary_Apps           500 non-null    object  \n",
      " 8   Usage_Frequency          500 non-null    object  \n",
      " 9   Daily_Usage_Time         500 non-null    object  \n",
      " 10  Reason_for_Using         500 non-null    object  \n",
      " 11  Satisfaction             500 non-null    category\n",
      " 12  Challenges               500 non-null    object  \n",
      " 13  Desired_Features         500 non-null    object  \n",
      " 14  Preferred_Communication  500 non-null    object  \n",
      " 15  Partner_Priorities       500 non-null    object  \n",
      "dtypes: category(1), int64(2), object(13)\n",
      "memory usage: 59.4+ KB\n"
     ]
    }
   ],
   "source": [
    "df.info()"
   ]
  },
  {
   "cell_type": "code",
   "execution_count": 34,
   "metadata": {},
   "outputs": [
    {
     "data": {
      "image/png": "[encoded data removed]",
      "text/plain": [
       "<Figure size 640x480 with 1 Axes>"
      ]
     },
     "metadata": {},
     "output_type": "display_data"
    }
   ],
   "source": [
    "import matplotlib.pyplot as plt\n",
    "\n",
    "# Plot a boxplot to identify the outliers\n",
    "plt.boxplot(data['Age'])\n",
    "plt.title('Boxplot for Age')\n",
    "plt.show()\n"
   ]
  },
  {
   "cell_type": "markdown",
   "metadata": {},
   "source": [
    "The box plot above shows there are no outliers in the numerical column Age"
   ]
  }
 ],
 "metadata": {
  "kernelspec": {
   "display_name": "ml",
   "language": "python",
   "name": "python3"
  },
  "language_info": {
   "codemirror_mode": {
    "name": "ipython",
    "version": 3
   },
   "file_extension": ".py",
   "mimetype": "text/x-python",
   "name": "python",
   "nbconvert_exporter": "python",
   "pygments_lexer": "ipython3",
   "version": "3.12.8"
  }
 },
 "nbformat": 4,
 "nbformat_minor": 2
}
